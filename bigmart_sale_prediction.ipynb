{
 "cells": [
  {
   "cell_type": "code",
   "execution_count": 98,
   "metadata": {},
   "outputs": [],
   "source": [
    "#import necessary libraries\n",
    "import pandas as pd\n",
    "import numpy as np\n",
    "import matplotlib.pyplot as plt\n",
    "import seaborn as sns"
   ]
  },
  {
   "cell_type": "code",
   "execution_count": 99,
   "metadata": {},
   "outputs": [],
   "source": [
    "#read train data\n",
    "train_data=pd.read_csv(r\"E:\\ml_ai_ict\\competition\\train_v9rqX0R.csv\")"
   ]
  },
  {
   "cell_type": "code",
   "execution_count": 100,
   "metadata": {},
   "outputs": [
    {
     "data": {
      "text/html": [
       "<div>\n",
       "<style scoped>\n",
       "    .dataframe tbody tr th:only-of-type {\n",
       "        vertical-align: middle;\n",
       "    }\n",
       "\n",
       "    .dataframe tbody tr th {\n",
       "        vertical-align: top;\n",
       "    }\n",
       "\n",
       "    .dataframe thead th {\n",
       "        text-align: right;\n",
       "    }\n",
       "</style>\n",
       "<table border=\"1\" class=\"dataframe\">\n",
       "  <thead>\n",
       "    <tr style=\"text-align: right;\">\n",
       "      <th></th>\n",
       "      <th>Item_Identifier</th>\n",
       "      <th>Item_Weight</th>\n",
       "      <th>Item_Fat_Content</th>\n",
       "      <th>Item_Visibility</th>\n",
       "      <th>Item_Type</th>\n",
       "      <th>Item_MRP</th>\n",
       "      <th>Outlet_Identifier</th>\n",
       "      <th>Outlet_Establishment_Year</th>\n",
       "      <th>Outlet_Size</th>\n",
       "      <th>Outlet_Location_Type</th>\n",
       "      <th>Outlet_Type</th>\n",
       "      <th>Item_Outlet_Sales</th>\n",
       "    </tr>\n",
       "  </thead>\n",
       "  <tbody>\n",
       "    <tr>\n",
       "      <th>0</th>\n",
       "      <td>FDA15</td>\n",
       "      <td>9.30</td>\n",
       "      <td>Low Fat</td>\n",
       "      <td>0.016047</td>\n",
       "      <td>Dairy</td>\n",
       "      <td>249.8092</td>\n",
       "      <td>OUT049</td>\n",
       "      <td>1999</td>\n",
       "      <td>Medium</td>\n",
       "      <td>Tier 1</td>\n",
       "      <td>Supermarket Type1</td>\n",
       "      <td>3735.1380</td>\n",
       "    </tr>\n",
       "    <tr>\n",
       "      <th>1</th>\n",
       "      <td>DRC01</td>\n",
       "      <td>5.92</td>\n",
       "      <td>Regular</td>\n",
       "      <td>0.019278</td>\n",
       "      <td>Soft Drinks</td>\n",
       "      <td>48.2692</td>\n",
       "      <td>OUT018</td>\n",
       "      <td>2009</td>\n",
       "      <td>Medium</td>\n",
       "      <td>Tier 3</td>\n",
       "      <td>Supermarket Type2</td>\n",
       "      <td>443.4228</td>\n",
       "    </tr>\n",
       "    <tr>\n",
       "      <th>2</th>\n",
       "      <td>FDN15</td>\n",
       "      <td>17.50</td>\n",
       "      <td>Low Fat</td>\n",
       "      <td>0.016760</td>\n",
       "      <td>Meat</td>\n",
       "      <td>141.6180</td>\n",
       "      <td>OUT049</td>\n",
       "      <td>1999</td>\n",
       "      <td>Medium</td>\n",
       "      <td>Tier 1</td>\n",
       "      <td>Supermarket Type1</td>\n",
       "      <td>2097.2700</td>\n",
       "    </tr>\n",
       "    <tr>\n",
       "      <th>3</th>\n",
       "      <td>FDX07</td>\n",
       "      <td>19.20</td>\n",
       "      <td>Regular</td>\n",
       "      <td>0.000000</td>\n",
       "      <td>Fruits and Vegetables</td>\n",
       "      <td>182.0950</td>\n",
       "      <td>OUT010</td>\n",
       "      <td>1998</td>\n",
       "      <td>NaN</td>\n",
       "      <td>Tier 3</td>\n",
       "      <td>Grocery Store</td>\n",
       "      <td>732.3800</td>\n",
       "    </tr>\n",
       "    <tr>\n",
       "      <th>4</th>\n",
       "      <td>NCD19</td>\n",
       "      <td>8.93</td>\n",
       "      <td>Low Fat</td>\n",
       "      <td>0.000000</td>\n",
       "      <td>Household</td>\n",
       "      <td>53.8614</td>\n",
       "      <td>OUT013</td>\n",
       "      <td>1987</td>\n",
       "      <td>High</td>\n",
       "      <td>Tier 3</td>\n",
       "      <td>Supermarket Type1</td>\n",
       "      <td>994.7052</td>\n",
       "    </tr>\n",
       "  </tbody>\n",
       "</table>\n",
       "</div>"
      ],
      "text/plain": [
       "  Item_Identifier  Item_Weight Item_Fat_Content  Item_Visibility  \\\n",
       "0           FDA15         9.30          Low Fat         0.016047   \n",
       "1           DRC01         5.92          Regular         0.019278   \n",
       "2           FDN15        17.50          Low Fat         0.016760   \n",
       "3           FDX07        19.20          Regular         0.000000   \n",
       "4           NCD19         8.93          Low Fat         0.000000   \n",
       "\n",
       "               Item_Type  Item_MRP Outlet_Identifier  \\\n",
       "0                  Dairy  249.8092            OUT049   \n",
       "1            Soft Drinks   48.2692            OUT018   \n",
       "2                   Meat  141.6180            OUT049   \n",
       "3  Fruits and Vegetables  182.0950            OUT010   \n",
       "4              Household   53.8614            OUT013   \n",
       "\n",
       "   Outlet_Establishment_Year Outlet_Size Outlet_Location_Type  \\\n",
       "0                       1999      Medium               Tier 1   \n",
       "1                       2009      Medium               Tier 3   \n",
       "2                       1999      Medium               Tier 1   \n",
       "3                       1998         NaN               Tier 3   \n",
       "4                       1987        High               Tier 3   \n",
       "\n",
       "         Outlet_Type  Item_Outlet_Sales  \n",
       "0  Supermarket Type1          3735.1380  \n",
       "1  Supermarket Type2           443.4228  \n",
       "2  Supermarket Type1          2097.2700  \n",
       "3      Grocery Store           732.3800  \n",
       "4  Supermarket Type1           994.7052  "
      ]
     },
     "execution_count": 100,
     "metadata": {},
     "output_type": "execute_result"
    }
   ],
   "source": [
    "train_data.head()"
   ]
  },
  {
   "cell_type": "code",
   "execution_count": 101,
   "metadata": {},
   "outputs": [
    {
     "name": "stdout",
     "output_type": "stream",
     "text": [
      "<class 'pandas.core.frame.DataFrame'>\n",
      "RangeIndex: 8523 entries, 0 to 8522\n",
      "Data columns (total 12 columns):\n",
      " #   Column                     Non-Null Count  Dtype  \n",
      "---  ------                     --------------  -----  \n",
      " 0   Item_Identifier            8523 non-null   object \n",
      " 1   Item_Weight                7060 non-null   float64\n",
      " 2   Item_Fat_Content           8523 non-null   object \n",
      " 3   Item_Visibility            8523 non-null   float64\n",
      " 4   Item_Type                  8523 non-null   object \n",
      " 5   Item_MRP                   8523 non-null   float64\n",
      " 6   Outlet_Identifier          8523 non-null   object \n",
      " 7   Outlet_Establishment_Year  8523 non-null   int64  \n",
      " 8   Outlet_Size                6113 non-null   object \n",
      " 9   Outlet_Location_Type       8523 non-null   object \n",
      " 10  Outlet_Type                8523 non-null   object \n",
      " 11  Item_Outlet_Sales          8523 non-null   float64\n",
      "dtypes: float64(4), int64(1), object(7)\n",
      "memory usage: 799.2+ KB\n"
     ]
    }
   ],
   "source": [
    "train_data.info()"
   ]
  },
  {
   "cell_type": "code",
   "execution_count": 102,
   "metadata": {},
   "outputs": [
    {
     "data": {
      "text/plain": [
       "Item_Identifier                 0\n",
       "Item_Weight                  1463\n",
       "Item_Fat_Content                0\n",
       "Item_Visibility                 0\n",
       "Item_Type                       0\n",
       "Item_MRP                        0\n",
       "Outlet_Identifier               0\n",
       "Outlet_Establishment_Year       0\n",
       "Outlet_Size                  2410\n",
       "Outlet_Location_Type            0\n",
       "Outlet_Type                     0\n",
       "Item_Outlet_Sales               0\n",
       "dtype: int64"
      ]
     },
     "execution_count": 102,
     "metadata": {},
     "output_type": "execute_result"
    }
   ],
   "source": [
    "#checking null\n",
    "train_data.isna().sum()"
   ]
  },
  {
   "cell_type": "code",
   "execution_count": 103,
   "metadata": {},
   "outputs": [],
   "source": [
    "#analysing data to finalise how to fill missing values\n",
    "trial1=train_data[train_data[\"Item_Weight\"].isnull()]"
   ]
  },
  {
   "cell_type": "code",
   "execution_count": 104,
   "metadata": {},
   "outputs": [
    {
     "data": {
      "text/plain": [
       "Fruits and Vegetables    213\n",
       "Snack Foods              212\n",
       "Household                151\n",
       "Frozen Foods             138\n",
       "Dairy                    116\n",
       "Baking Goods             112\n",
       "Canned                   110\n",
       "Health and Hygiene        90\n",
       "Meat                      88\n",
       "Soft Drinks               71\n",
       "Breads                    47\n",
       "Others                    32\n",
       "Hard Drinks               31\n",
       "Breakfast                 21\n",
       "Starchy Foods             18\n",
       "Seafood                   13\n",
       "Name: Item_Type, dtype: int64"
      ]
     },
     "execution_count": 104,
     "metadata": {},
     "output_type": "execute_result"
    }
   ],
   "source": [
    "trial1[\"Item_Type\"].value_counts()"
   ]
  },
  {
   "cell_type": "code",
   "execution_count": 105,
   "metadata": {},
   "outputs": [
    {
     "data": {
      "text/plain": [
       "13.224769381746881"
      ]
     },
     "execution_count": 105,
     "metadata": {},
     "output_type": "execute_result"
    }
   ],
   "source": [
    "train_data[train_data[\"Item_Type\"]==\"Fruits and Vegetables\"][\"Item_Weight\"].mean()"
   ]
  },
  {
   "cell_type": "code",
   "execution_count": 106,
   "metadata": {},
   "outputs": [
    {
     "data": {
      "text/plain": [
       "12.987879554655919"
      ]
     },
     "execution_count": 106,
     "metadata": {},
     "output_type": "execute_result"
    }
   ],
   "source": [
    "train_data[train_data[\"Item_Type\"]==\"Snack Foods\"][\"Item_Weight\"].mean()"
   ]
  },
  {
   "cell_type": "code",
   "execution_count": 107,
   "metadata": {},
   "outputs": [
    {
     "data": {
      "text/plain": [
       "13.384736495388726"
      ]
     },
     "execution_count": 107,
     "metadata": {},
     "output_type": "execute_result"
    }
   ],
   "source": [
    "train_data[train_data[\"Item_Type\"]==\"Household\"][\"Item_Weight\"].mean()"
   ]
  },
  {
   "cell_type": "code",
   "execution_count": 108,
   "metadata": {},
   "outputs": [
    {
     "data": {
      "text/plain": [
       "12.867061281337076"
      ]
     },
     "execution_count": 108,
     "metadata": {},
     "output_type": "execute_result"
    }
   ],
   "source": [
    "train_data[train_data[\"Item_Type\"]==\"Frozen Foods\"][\"Item_Weight\"].mean()"
   ]
  },
  {
   "cell_type": "code",
   "execution_count": 109,
   "metadata": {},
   "outputs": [
    {
     "data": {
      "text/plain": [
       "13.42606890459367"
      ]
     },
     "execution_count": 109,
     "metadata": {},
     "output_type": "execute_result"
    }
   ],
   "source": [
    "train_data[train_data[\"Item_Type\"]==\"Dairy\"][\"Item_Weight\"].mean()"
   ]
  },
  {
   "cell_type": "code",
   "execution_count": 110,
   "metadata": {},
   "outputs": [
    {
     "data": {
      "text/plain": [
       "12.277108208955255"
      ]
     },
     "execution_count": 110,
     "metadata": {},
     "output_type": "execute_result"
    }
   ],
   "source": [
    "train_data[train_data[\"Item_Type\"]==\"Baking Goods\"][\"Item_Weight\"].mean()"
   ]
  },
  {
   "cell_type": "code",
   "execution_count": 111,
   "metadata": {},
   "outputs": [
    {
     "data": {
      "text/plain": [
       "12.305705009276451"
      ]
     },
     "execution_count": 111,
     "metadata": {},
     "output_type": "execute_result"
    }
   ],
   "source": [
    "train_data[train_data[\"Item_Type\"]==\"Canned\"][\"Item_Weight\"].mean()"
   ]
  },
  {
   "cell_type": "code",
   "execution_count": 112,
   "metadata": {},
   "outputs": [
    {
     "data": {
      "text/plain": [
       "13.142313953488392"
      ]
     },
     "execution_count": 112,
     "metadata": {},
     "output_type": "execute_result"
    }
   ],
   "source": [
    "train_data[train_data[\"Item_Type\"]==\"Health and Hygiene\"][\"Item_Weight\"].mean()"
   ]
  },
  {
   "cell_type": "code",
   "execution_count": 113,
   "metadata": {},
   "outputs": [
    {
     "data": {
      "text/plain": [
       "12.81734421364986"
      ]
     },
     "execution_count": 113,
     "metadata": {},
     "output_type": "execute_result"
    }
   ],
   "source": [
    "train_data[train_data[\"Item_Type\"]==\"Meat\"][\"Item_Weight\"].mean()"
   ]
  },
  {
   "cell_type": "code",
   "execution_count": 114,
   "metadata": {},
   "outputs": [
    {
     "data": {
      "text/plain": [
       "11.847459893048129"
      ]
     },
     "execution_count": 114,
     "metadata": {},
     "output_type": "execute_result"
    }
   ],
   "source": [
    "train_data[train_data[\"Item_Type\"]==\"Soft Drinks\"][\"Item_Weight\"].mean()"
   ]
  },
  {
   "cell_type": "code",
   "execution_count": 115,
   "metadata": {},
   "outputs": [
    {
     "data": {
      "text/plain": [
       "11.3469362745098"
      ]
     },
     "execution_count": 115,
     "metadata": {},
     "output_type": "execute_result"
    }
   ],
   "source": [
    "train_data[train_data[\"Item_Type\"]==\"Breads\"][\"Item_Weight\"].mean()"
   ]
  },
  {
   "cell_type": "code",
   "execution_count": 116,
   "metadata": {},
   "outputs": [
    {
     "data": {
      "text/plain": [
       "13.853284671532842"
      ]
     },
     "execution_count": 116,
     "metadata": {},
     "output_type": "execute_result"
    }
   ],
   "source": [
    "train_data[train_data[\"Item_Type\"]==\"Others\"][\"Item_Weight\"].mean()"
   ]
  },
  {
   "cell_type": "code",
   "execution_count": 117,
   "metadata": {},
   "outputs": [
    {
     "data": {
      "text/plain": [
       "11.400327868852452"
      ]
     },
     "execution_count": 117,
     "metadata": {},
     "output_type": "execute_result"
    }
   ],
   "source": [
    "train_data[train_data[\"Item_Type\"]==\"Hard Drinks\"][\"Item_Weight\"].mean()"
   ]
  },
  {
   "cell_type": "code",
   "execution_count": 118,
   "metadata": {},
   "outputs": [
    {
     "data": {
      "text/plain": [
       "12.768202247191002"
      ]
     },
     "execution_count": 118,
     "metadata": {},
     "output_type": "execute_result"
    }
   ],
   "source": [
    "train_data[train_data[\"Item_Type\"]==\"Breakfast\"][\"Item_Weight\"].mean()"
   ]
  },
  {
   "cell_type": "code",
   "execution_count": 119,
   "metadata": {},
   "outputs": [
    {
     "data": {
      "text/plain": [
       "13.690730769230765"
      ]
     },
     "execution_count": 119,
     "metadata": {},
     "output_type": "execute_result"
    }
   ],
   "source": [
    "train_data[train_data[\"Item_Type\"]==\"Starchy Foods\"][\"Item_Weight\"].mean()"
   ]
  },
  {
   "cell_type": "code",
   "execution_count": 120,
   "metadata": {},
   "outputs": [
    {
     "data": {
      "text/plain": [
       "12.5528431372549"
      ]
     },
     "execution_count": 120,
     "metadata": {},
     "output_type": "execute_result"
    }
   ],
   "source": [
    "train_data[train_data[\"Item_Type\"]==\"Seafood\"][\"Item_Weight\"].mean()"
   ]
  },
  {
   "cell_type": "code",
   "execution_count": 121,
   "metadata": {},
   "outputs": [],
   "source": [
    "#conclusion:for the missing item weight can be filled with 12.0"
   ]
  },
  {
   "cell_type": "code",
   "execution_count": 122,
   "metadata": {},
   "outputs": [],
   "source": [
    "train_data[\"Item_Weight\"]=train_data[\"Item_Weight\"].fillna(12.0)"
   ]
  },
  {
   "cell_type": "code",
   "execution_count": 1,
   "metadata": {},
   "outputs": [],
   "source": [
    "#analysing train data to finalise how to fill missing values in  outlet size"
   ]
  },
  {
   "cell_type": "code",
   "execution_count": 123,
   "metadata": {},
   "outputs": [],
   "source": [
    "trial2=train_data[train_data[\"Outlet_Size\"].isnull()]"
   ]
  },
  {
   "cell_type": "code",
   "execution_count": 124,
   "metadata": {},
   "outputs": [
    {
     "data": {
      "text/plain": [
       "Fruits and Vegetables    349\n",
       "Snack Foods              332\n",
       "Household                261\n",
       "Frozen Foods             241\n",
       "Dairy                    186\n",
       "Baking Goods             185\n",
       "Canned                   178\n",
       "Health and Hygiene       153\n",
       "Soft Drinks              133\n",
       "Meat                     116\n",
       "Breads                    72\n",
       "Hard Drinks               66\n",
       "Others                    46\n",
       "Starchy Foods             43\n",
       "Breakfast                 31\n",
       "Seafood                   18\n",
       "Name: Item_Type, dtype: int64"
      ]
     },
     "execution_count": 124,
     "metadata": {},
     "output_type": "execute_result"
    }
   ],
   "source": [
    "trial2[\"Item_Type\"].value_counts()"
   ]
  },
  {
   "cell_type": "code",
   "execution_count": 125,
   "metadata": {},
   "outputs": [
    {
     "data": {
      "text/plain": [
       "Tier 2    1855\n",
       "Tier 3     555\n",
       "Name: Outlet_Location_Type, dtype: int64"
      ]
     },
     "execution_count": 125,
     "metadata": {},
     "output_type": "execute_result"
    }
   ],
   "source": [
    "trial2[\"Outlet_Location_Type\"].value_counts()"
   ]
  },
  {
   "cell_type": "code",
   "execution_count": 126,
   "metadata": {},
   "outputs": [
    {
     "data": {
      "text/plain": [
       "Supermarket Type1    1855\n",
       "Grocery Store         555\n",
       "Name: Outlet_Type, dtype: int64"
      ]
     },
     "execution_count": 126,
     "metadata": {},
     "output_type": "execute_result"
    }
   ],
   "source": [
    "trial2[\"Outlet_Type\"].value_counts()"
   ]
  },
  {
   "cell_type": "code",
   "execution_count": 127,
   "metadata": {},
   "outputs": [],
   "source": [
    "groups=trial2.groupby([\"Outlet_Location_Type\",\"Outlet_Type\"])"
   ]
  },
  {
   "cell_type": "code",
   "execution_count": 128,
   "metadata": {},
   "outputs": [
    {
     "name": "stdout",
     "output_type": "stream",
     "text": [
      "('Tier 2', 'Supermarket Type1')\n",
      "1855\n",
      "('Tier 3', 'Grocery Store')\n",
      "555\n"
     ]
    }
   ],
   "source": [
    "for name,types in groups:\n",
    "    print(name)\n",
    "    print(len(types))"
   ]
  },
  {
   "cell_type": "code",
   "execution_count": 129,
   "metadata": {},
   "outputs": [
    {
     "data": {
      "text/plain": [
       "0    Small\n",
       "dtype: object"
      ]
     },
     "execution_count": 129,
     "metadata": {},
     "output_type": "execute_result"
    }
   ],
   "source": [
    "train_data[(train_data[\"Outlet_Location_Type\"]=='Tier 2') & (train_data[\"Outlet_Type\"]=='Supermarket Type1')][\"Outlet_Size\"].mode()"
   ]
  },
  {
   "cell_type": "code",
   "execution_count": 130,
   "metadata": {},
   "outputs": [],
   "source": [
    "indexes=train_data[(train_data[\"Outlet_Location_Type\"]=='Tier 3') & (train_data[\"Outlet_Type\"]=='Grocery Store')][\"Outlet_Size\"].index"
   ]
  },
  {
   "cell_type": "code",
   "execution_count": null,
   "metadata": {},
   "outputs": [],
   "source": [
    "#it is observed that in rows with outlet_size=nan,outlet location type and outlet type are either\n",
    "#1.'Tier 2', 'Supermarket Type1' or\n",
    "#2 'Tier 3', 'Grocery Store'\n",
    "#and in entire train data,without null has 'Tier 3', 'Grocery Store' combination.\n",
    "#so for those index,outlet size can be filled with new value(very_small)"
   ]
  },
  {
   "cell_type": "code",
   "execution_count": null,
   "metadata": {},
   "outputs": [],
   "source": [
    "#whereever outlet location type and outlet type are 'Tier 2', 'Supermarket Type1',outlet_size=small"
   ]
  },
  {
   "cell_type": "code",
   "execution_count": 131,
   "metadata": {},
   "outputs": [],
   "source": [
    "train_data.loc[indexes,\"Outlet_Size\"]=\"very small\""
   ]
  },
  {
   "cell_type": "code",
   "execution_count": 132,
   "metadata": {},
   "outputs": [
    {
     "data": {
      "text/plain": [
       "Item_Identifier                 0\n",
       "Item_Weight                     0\n",
       "Item_Fat_Content                0\n",
       "Item_Visibility                 0\n",
       "Item_Type                       0\n",
       "Item_MRP                        0\n",
       "Outlet_Identifier               0\n",
       "Outlet_Establishment_Year       0\n",
       "Outlet_Size                  1855\n",
       "Outlet_Location_Type            0\n",
       "Outlet_Type                     0\n",
       "Item_Outlet_Sales               0\n",
       "dtype: int64"
      ]
     },
     "execution_count": 132,
     "metadata": {},
     "output_type": "execute_result"
    }
   ],
   "source": [
    "train_data.isna().sum()"
   ]
  },
  {
   "cell_type": "code",
   "execution_count": 133,
   "metadata": {},
   "outputs": [],
   "source": [
    "train_data[\"Outlet_Size\"]= train_data[\"Outlet_Size\"].fillna(\"Small\")"
   ]
  },
  {
   "cell_type": "code",
   "execution_count": 134,
   "metadata": {},
   "outputs": [
    {
     "data": {
      "text/plain": [
       "Item_Identifier              0\n",
       "Item_Weight                  0\n",
       "Item_Fat_Content             0\n",
       "Item_Visibility              0\n",
       "Item_Type                    0\n",
       "Item_MRP                     0\n",
       "Outlet_Identifier            0\n",
       "Outlet_Establishment_Year    0\n",
       "Outlet_Size                  0\n",
       "Outlet_Location_Type         0\n",
       "Outlet_Type                  0\n",
       "Item_Outlet_Sales            0\n",
       "dtype: int64"
      ]
     },
     "execution_count": 134,
     "metadata": {},
     "output_type": "execute_result"
    }
   ],
   "source": [
    "train_data.isna().sum()"
   ]
  },
  {
   "cell_type": "code",
   "execution_count": 46,
   "metadata": {},
   "outputs": [
    {
     "data": {
      "text/plain": [
       "(8523, 12)"
      ]
     },
     "execution_count": 46,
     "metadata": {},
     "output_type": "execute_result"
    }
   ],
   "source": [
    "train_data.shape"
   ]
  },
  {
   "cell_type": "code",
   "execution_count": 139,
   "metadata": {},
   "outputs": [],
   "source": [
    "#analysing how many items are there in each outlet\n",
    "my_groups=train_data.groupby([\"Outlet_Identifier\"])"
   ]
  },
  {
   "cell_type": "code",
   "execution_count": 143,
   "metadata": {},
   "outputs": [
    {
     "name": "stdout",
     "output_type": "stream",
     "text": [
      "OUT010\n",
      "<class 'pandas.core.frame.DataFrame'>\n",
      "Int64Index: 555 entries, 3 to 8509\n",
      "Data columns (total 12 columns):\n",
      " #   Column                     Non-Null Count  Dtype  \n",
      "---  ------                     --------------  -----  \n",
      " 0   Item_Identifier            555 non-null    object \n",
      " 1   Item_Weight                555 non-null    float64\n",
      " 2   Item_Fat_Content           555 non-null    object \n",
      " 3   Item_Visibility            555 non-null    float64\n",
      " 4   Item_Type                  555 non-null    object \n",
      " 5   Item_MRP                   555 non-null    float64\n",
      " 6   Outlet_Identifier          555 non-null    object \n",
      " 7   Outlet_Establishment_Year  555 non-null    int64  \n",
      " 8   Outlet_Size                555 non-null    object \n",
      " 9   Outlet_Location_Type       555 non-null    object \n",
      " 10  Outlet_Type                555 non-null    object \n",
      " 11  Item_Outlet_Sales          555 non-null    float64\n",
      "dtypes: float64(4), int64(1), object(7)\n",
      "memory usage: 56.4+ KB\n",
      "OUT013\n",
      "<class 'pandas.core.frame.DataFrame'>\n",
      "Int64Index: 932 entries, 4 to 8518\n",
      "Data columns (total 12 columns):\n",
      " #   Column                     Non-Null Count  Dtype  \n",
      "---  ------                     --------------  -----  \n",
      " 0   Item_Identifier            932 non-null    object \n",
      " 1   Item_Weight                932 non-null    float64\n",
      " 2   Item_Fat_Content           932 non-null    object \n",
      " 3   Item_Visibility            932 non-null    float64\n",
      " 4   Item_Type                  932 non-null    object \n",
      " 5   Item_MRP                   932 non-null    float64\n",
      " 6   Outlet_Identifier          932 non-null    object \n",
      " 7   Outlet_Establishment_Year  932 non-null    int64  \n",
      " 8   Outlet_Size                932 non-null    object \n",
      " 9   Outlet_Location_Type       932 non-null    object \n",
      " 10  Outlet_Type                932 non-null    object \n",
      " 11  Item_Outlet_Sales          932 non-null    float64\n",
      "dtypes: float64(4), int64(1), object(7)\n",
      "memory usage: 94.7+ KB\n",
      "OUT017\n",
      "<class 'pandas.core.frame.DataFrame'>\n",
      "Int64Index: 926 entries, 9 to 8501\n",
      "Data columns (total 12 columns):\n",
      " #   Column                     Non-Null Count  Dtype  \n",
      "---  ------                     --------------  -----  \n",
      " 0   Item_Identifier            926 non-null    object \n",
      " 1   Item_Weight                926 non-null    float64\n",
      " 2   Item_Fat_Content           926 non-null    object \n",
      " 3   Item_Visibility            926 non-null    float64\n",
      " 4   Item_Type                  926 non-null    object \n",
      " 5   Item_MRP                   926 non-null    float64\n",
      " 6   Outlet_Identifier          926 non-null    object \n",
      " 7   Outlet_Establishment_Year  926 non-null    int64  \n",
      " 8   Outlet_Size                926 non-null    object \n",
      " 9   Outlet_Location_Type       926 non-null    object \n",
      " 10  Outlet_Type                926 non-null    object \n",
      " 11  Item_Outlet_Sales          926 non-null    float64\n",
      "dtypes: float64(4), int64(1), object(7)\n",
      "memory usage: 94.0+ KB\n",
      "OUT018\n",
      "<class 'pandas.core.frame.DataFrame'>\n",
      "Int64Index: 928 entries, 1 to 8521\n",
      "Data columns (total 12 columns):\n",
      " #   Column                     Non-Null Count  Dtype  \n",
      "---  ------                     --------------  -----  \n",
      " 0   Item_Identifier            928 non-null    object \n",
      " 1   Item_Weight                928 non-null    float64\n",
      " 2   Item_Fat_Content           928 non-null    object \n",
      " 3   Item_Visibility            928 non-null    float64\n",
      " 4   Item_Type                  928 non-null    object \n",
      " 5   Item_MRP                   928 non-null    float64\n",
      " 6   Outlet_Identifier          928 non-null    object \n",
      " 7   Outlet_Establishment_Year  928 non-null    int64  \n",
      " 8   Outlet_Size                928 non-null    object \n",
      " 9   Outlet_Location_Type       928 non-null    object \n",
      " 10  Outlet_Type                928 non-null    object \n",
      " 11  Item_Outlet_Sales          928 non-null    float64\n",
      "dtypes: float64(4), int64(1), object(7)\n",
      "memory usage: 94.2+ KB\n",
      "OUT019\n",
      "<class 'pandas.core.frame.DataFrame'>\n",
      "Int64Index: 528 entries, 23 to 8490\n",
      "Data columns (total 12 columns):\n",
      " #   Column                     Non-Null Count  Dtype  \n",
      "---  ------                     --------------  -----  \n",
      " 0   Item_Identifier            528 non-null    object \n",
      " 1   Item_Weight                528 non-null    float64\n",
      " 2   Item_Fat_Content           528 non-null    object \n",
      " 3   Item_Visibility            528 non-null    float64\n",
      " 4   Item_Type                  528 non-null    object \n",
      " 5   Item_MRP                   528 non-null    float64\n",
      " 6   Outlet_Identifier          528 non-null    object \n",
      " 7   Outlet_Establishment_Year  528 non-null    int64  \n",
      " 8   Outlet_Size                528 non-null    object \n",
      " 9   Outlet_Location_Type       528 non-null    object \n",
      " 10  Outlet_Type                528 non-null    object \n",
      " 11  Item_Outlet_Sales          528 non-null    float64\n",
      "dtypes: float64(4), int64(1), object(7)\n",
      "memory usage: 53.6+ KB\n",
      "OUT027\n",
      "<class 'pandas.core.frame.DataFrame'>\n",
      "Int64Index: 935 entries, 7 to 8504\n",
      "Data columns (total 12 columns):\n",
      " #   Column                     Non-Null Count  Dtype  \n",
      "---  ------                     --------------  -----  \n",
      " 0   Item_Identifier            935 non-null    object \n",
      " 1   Item_Weight                935 non-null    float64\n",
      " 2   Item_Fat_Content           935 non-null    object \n",
      " 3   Item_Visibility            935 non-null    float64\n",
      " 4   Item_Type                  935 non-null    object \n",
      " 5   Item_MRP                   935 non-null    float64\n",
      " 6   Outlet_Identifier          935 non-null    object \n",
      " 7   Outlet_Establishment_Year  935 non-null    int64  \n",
      " 8   Outlet_Size                935 non-null    object \n",
      " 9   Outlet_Location_Type       935 non-null    object \n",
      " 10  Outlet_Type                935 non-null    object \n",
      " 11  Item_Outlet_Sales          935 non-null    float64\n",
      "dtypes: float64(4), int64(1), object(7)\n",
      "memory usage: 95.0+ KB\n",
      "OUT035\n",
      "<class 'pandas.core.frame.DataFrame'>\n",
      "Int64Index: 930 entries, 19 to 8520\n",
      "Data columns (total 12 columns):\n",
      " #   Column                     Non-Null Count  Dtype  \n",
      "---  ------                     --------------  -----  \n",
      " 0   Item_Identifier            930 non-null    object \n",
      " 1   Item_Weight                930 non-null    float64\n",
      " 2   Item_Fat_Content           930 non-null    object \n",
      " 3   Item_Visibility            930 non-null    float64\n",
      " 4   Item_Type                  930 non-null    object \n",
      " 5   Item_MRP                   930 non-null    float64\n",
      " 6   Outlet_Identifier          930 non-null    object \n",
      " 7   Outlet_Establishment_Year  930 non-null    int64  \n",
      " 8   Outlet_Size                930 non-null    object \n",
      " 9   Outlet_Location_Type       930 non-null    object \n",
      " 10  Outlet_Type                930 non-null    object \n",
      " 11  Item_Outlet_Sales          930 non-null    float64\n",
      "dtypes: float64(4), int64(1), object(7)\n",
      "memory usage: 94.5+ KB\n",
      "OUT045\n",
      "<class 'pandas.core.frame.DataFrame'>\n",
      "Int64Index: 929 entries, 8 to 8519\n",
      "Data columns (total 12 columns):\n",
      " #   Column                     Non-Null Count  Dtype  \n",
      "---  ------                     --------------  -----  \n",
      " 0   Item_Identifier            929 non-null    object \n",
      " 1   Item_Weight                929 non-null    float64\n",
      " 2   Item_Fat_Content           929 non-null    object \n",
      " 3   Item_Visibility            929 non-null    float64\n",
      " 4   Item_Type                  929 non-null    object \n",
      " 5   Item_MRP                   929 non-null    float64\n",
      " 6   Outlet_Identifier          929 non-null    object \n",
      " 7   Outlet_Establishment_Year  929 non-null    int64  \n",
      " 8   Outlet_Size                929 non-null    object \n",
      " 9   Outlet_Location_Type       929 non-null    object \n",
      " 10  Outlet_Type                929 non-null    object \n",
      " 11  Item_Outlet_Sales          929 non-null    float64\n",
      "dtypes: float64(4), int64(1), object(7)\n",
      "memory usage: 94.4+ KB\n",
      "OUT046\n",
      "<class 'pandas.core.frame.DataFrame'>\n",
      "Int64Index: 930 entries, 11 to 8522\n",
      "Data columns (total 12 columns):\n",
      " #   Column                     Non-Null Count  Dtype  \n",
      "---  ------                     --------------  -----  \n",
      " 0   Item_Identifier            930 non-null    object \n",
      " 1   Item_Weight                930 non-null    float64\n",
      " 2   Item_Fat_Content           930 non-null    object \n",
      " 3   Item_Visibility            930 non-null    float64\n",
      " 4   Item_Type                  930 non-null    object \n",
      " 5   Item_MRP                   930 non-null    float64\n",
      " 6   Outlet_Identifier          930 non-null    object \n",
      " 7   Outlet_Establishment_Year  930 non-null    int64  \n",
      " 8   Outlet_Size                930 non-null    object \n",
      " 9   Outlet_Location_Type       930 non-null    object \n",
      " 10  Outlet_Type                930 non-null    object \n",
      " 11  Item_Outlet_Sales          930 non-null    float64\n",
      "dtypes: float64(4), int64(1), object(7)\n",
      "memory usage: 94.5+ KB\n",
      "OUT049\n",
      "<class 'pandas.core.frame.DataFrame'>\n",
      "Int64Index: 930 entries, 0 to 8479\n",
      "Data columns (total 12 columns):\n",
      " #   Column                     Non-Null Count  Dtype  \n",
      "---  ------                     --------------  -----  \n",
      " 0   Item_Identifier            930 non-null    object \n",
      " 1   Item_Weight                930 non-null    float64\n",
      " 2   Item_Fat_Content           930 non-null    object \n",
      " 3   Item_Visibility            930 non-null    float64\n",
      " 4   Item_Type                  930 non-null    object \n",
      " 5   Item_MRP                   930 non-null    float64\n",
      " 6   Outlet_Identifier          930 non-null    object \n",
      " 7   Outlet_Establishment_Year  930 non-null    int64  \n",
      " 8   Outlet_Size                930 non-null    object \n",
      " 9   Outlet_Location_Type       930 non-null    object \n",
      " 10  Outlet_Type                930 non-null    object \n",
      " 11  Item_Outlet_Sales          930 non-null    float64\n",
      "dtypes: float64(4), int64(1), object(7)\n",
      "memory usage: 94.5+ KB\n"
     ]
    }
   ],
   "source": [
    "for name,group in my_groups:\n",
    "    print(name)\n",
    "    temp=group\n",
    "    temp.info()\n"
   ]
  },
  {
   "cell_type": "code",
   "execution_count": 145,
   "metadata": {},
   "outputs": [],
   "source": [
    "#feature engineering\n",
    "index10=train_data.loc[train_data[\"Outlet_Identifier\"]==\"010\"].index\n",
    "index19=train_data.loc[train_data[\"Outlet_Identifier\"]==\"019\"].index\n",
    "train_data.loc[:,\"new_feature\"]=1\n",
    "train_data.loc[index10,\"new_feature\"]=0\n",
    "train_data.loc[index19,\"new_feature\"]=0\n"
   ]
  },
  {
   "cell_type": "code",
   "execution_count": null,
   "metadata": {},
   "outputs": [],
   "source": [
    "#it is observed that outlet 010 and 019 has around 500 items and the rest has 900+ items.so feature engineering done accordingly"
   ]
  },
  {
   "cell_type": "code",
   "execution_count": 146,
   "metadata": {},
   "outputs": [],
   "source": [
    "#label encoding\n",
    "from sklearn.preprocessing import LabelEncoder\n",
    "label= LabelEncoder()"
   ]
  },
  {
   "cell_type": "code",
   "execution_count": 147,
   "metadata": {},
   "outputs": [],
   "source": [
    "#X and y\n",
    "y=train_data[\"Item_Outlet_Sales\"]\n",
    "train_data=train_data.drop([\"Item_Outlet_Sales\"],axis=1)"
   ]
  },
  {
   "cell_type": "code",
   "execution_count": 148,
   "metadata": {},
   "outputs": [],
   "source": [
    "cols = train_data.select_dtypes(include=[\"object\"]).columns.tolist()\n",
    "for col in cols:\n",
    "    train_data[col]=label.fit_transform(train_data[col])"
   ]
  },
  {
   "cell_type": "code",
   "execution_count": 149,
   "metadata": {},
   "outputs": [],
   "source": [
    "#standard scaling\n",
    "from sklearn.preprocessing import StandardScaler\n",
    "scale=StandardScaler()\n",
    "column_names=train_data.columns\n",
    "train_data=pd.DataFrame(scale.fit_transform(train_data),columns=column_names)"
   ]
  },
  {
   "cell_type": "code",
   "execution_count": 150,
   "metadata": {},
   "outputs": [
    {
     "data": {
      "text/html": [
       "<div>\n",
       "<style scoped>\n",
       "    .dataframe tbody tr th:only-of-type {\n",
       "        vertical-align: middle;\n",
       "    }\n",
       "\n",
       "    .dataframe tbody tr th {\n",
       "        vertical-align: top;\n",
       "    }\n",
       "\n",
       "    .dataframe thead th {\n",
       "        text-align: right;\n",
       "    }\n",
       "</style>\n",
       "<table border=\"1\" class=\"dataframe\">\n",
       "  <thead>\n",
       "    <tr style=\"text-align: right;\">\n",
       "      <th></th>\n",
       "      <th>Item_Identifier</th>\n",
       "      <th>Item_Weight</th>\n",
       "      <th>Item_Fat_Content</th>\n",
       "      <th>Item_Visibility</th>\n",
       "      <th>Item_Type</th>\n",
       "      <th>Item_MRP</th>\n",
       "      <th>Outlet_Identifier</th>\n",
       "      <th>Outlet_Establishment_Year</th>\n",
       "      <th>Outlet_Size</th>\n",
       "      <th>Outlet_Location_Type</th>\n",
       "      <th>Outlet_Type</th>\n",
       "      <th>new_feature</th>\n",
       "    </tr>\n",
       "  </thead>\n",
       "  <tbody>\n",
       "    <tr>\n",
       "      <th>count</th>\n",
       "      <td>8.523000e+03</td>\n",
       "      <td>8.523000e+03</td>\n",
       "      <td>8.523000e+03</td>\n",
       "      <td>8.523000e+03</td>\n",
       "      <td>8.523000e+03</td>\n",
       "      <td>8.523000e+03</td>\n",
       "      <td>8.523000e+03</td>\n",
       "      <td>8.523000e+03</td>\n",
       "      <td>8.523000e+03</td>\n",
       "      <td>8.523000e+03</td>\n",
       "      <td>8.523000e+03</td>\n",
       "      <td>8523.0</td>\n",
       "    </tr>\n",
       "    <tr>\n",
       "      <th>mean</th>\n",
       "      <td>5.760186e-17</td>\n",
       "      <td>-7.903647e-17</td>\n",
       "      <td>1.549988e-16</td>\n",
       "      <td>-8.548444e-17</td>\n",
       "      <td>1.025422e-16</td>\n",
       "      <td>-1.644427e-16</td>\n",
       "      <td>-2.622435e-16</td>\n",
       "      <td>1.135381e-14</td>\n",
       "      <td>1.138360e-16</td>\n",
       "      <td>-6.574323e-16</td>\n",
       "      <td>-4.064826e-16</td>\n",
       "      <td>0.0</td>\n",
       "    </tr>\n",
       "    <tr>\n",
       "      <th>std</th>\n",
       "      <td>1.000059e+00</td>\n",
       "      <td>1.000059e+00</td>\n",
       "      <td>1.000059e+00</td>\n",
       "      <td>1.000059e+00</td>\n",
       "      <td>1.000059e+00</td>\n",
       "      <td>1.000059e+00</td>\n",
       "      <td>1.000059e+00</td>\n",
       "      <td>1.000059e+00</td>\n",
       "      <td>1.000059e+00</td>\n",
       "      <td>1.000059e+00</td>\n",
       "      <td>1.000059e+00</td>\n",
       "      <td>0.0</td>\n",
       "    </tr>\n",
       "    <tr>\n",
       "      <th>min</th>\n",
       "      <td>-1.735801e+00</td>\n",
       "      <td>-1.924252e+00</td>\n",
       "      <td>-2.123779e+00</td>\n",
       "      <td>-1.281758e+00</td>\n",
       "      <td>-1.716656e+00</td>\n",
       "      <td>-1.761688e+00</td>\n",
       "      <td>-1.664513e+00</td>\n",
       "      <td>-1.532846e+00</td>\n",
       "      <td>-1.962963e+00</td>\n",
       "      <td>-1.369334e+00</td>\n",
       "      <td>-1.508289e+00</td>\n",
       "      <td>0.0</td>\n",
       "    </tr>\n",
       "    <tr>\n",
       "      <th>25%</th>\n",
       "      <td>-8.553390e-01</td>\n",
       "      <td>-8.023221e-01</td>\n",
       "      <td>-5.728436e-01</td>\n",
       "      <td>-7.586531e-01</td>\n",
       "      <td>-7.664793e-01</td>\n",
       "      <td>-7.574307e-01</td>\n",
       "      <td>-9.595514e-01</td>\n",
       "      <td>-1.293934e+00</td>\n",
       "      <td>-6.704464e-01</td>\n",
       "      <td>-1.369334e+00</td>\n",
       "      <td>-2.526583e-01</td>\n",
       "      <td>0.0</td>\n",
       "    </tr>\n",
       "    <tr>\n",
       "      <th>50%</th>\n",
       "      <td>7.313312e-03</td>\n",
       "      <td>-1.676236e-01</td>\n",
       "      <td>-5.728436e-01</td>\n",
       "      <td>-2.364792e-01</td>\n",
       "      <td>-2.913909e-01</td>\n",
       "      <td>3.243893e-02</td>\n",
       "      <td>9.789062e-02</td>\n",
       "      <td>1.395408e-01</td>\n",
       "      <td>6.220699e-01</td>\n",
       "      <td>-1.388824e-01</td>\n",
       "      <td>-2.526583e-01</td>\n",
       "      <td>0.0</td>\n",
       "    </tr>\n",
       "    <tr>\n",
       "      <th>75%</th>\n",
       "      <td>8.621740e-01</td>\n",
       "      <td>7.761661e-01</td>\n",
       "      <td>9.780922e-01</td>\n",
       "      <td>5.514755e-01</td>\n",
       "      <td>6.587859e-01</td>\n",
       "      <td>7.170372e-01</td>\n",
       "      <td>8.028520e-01</td>\n",
       "      <td>7.368218e-01</td>\n",
       "      <td>6.220699e-01</td>\n",
       "      <td>1.091569e+00</td>\n",
       "      <td>-2.526583e-01</td>\n",
       "      <td>0.0</td>\n",
       "    </tr>\n",
       "    <tr>\n",
       "      <th>max</th>\n",
       "      <td>1.732618e+00</td>\n",
       "      <td>2.038485e+00</td>\n",
       "      <td>4.079964e+00</td>\n",
       "      <td>5.083050e+00</td>\n",
       "      <td>1.846507e+00</td>\n",
       "      <td>2.021724e+00</td>\n",
       "      <td>1.507813e+00</td>\n",
       "      <td>1.334103e+00</td>\n",
       "      <td>1.914586e+00</td>\n",
       "      <td>1.091569e+00</td>\n",
       "      <td>2.258603e+00</td>\n",
       "      <td>0.0</td>\n",
       "    </tr>\n",
       "  </tbody>\n",
       "</table>\n",
       "</div>"
      ],
      "text/plain": [
       "       Item_Identifier   Item_Weight  Item_Fat_Content  Item_Visibility  \\\n",
       "count     8.523000e+03  8.523000e+03      8.523000e+03     8.523000e+03   \n",
       "mean      5.760186e-17 -7.903647e-17      1.549988e-16    -8.548444e-17   \n",
       "std       1.000059e+00  1.000059e+00      1.000059e+00     1.000059e+00   \n",
       "min      -1.735801e+00 -1.924252e+00     -2.123779e+00    -1.281758e+00   \n",
       "25%      -8.553390e-01 -8.023221e-01     -5.728436e-01    -7.586531e-01   \n",
       "50%       7.313312e-03 -1.676236e-01     -5.728436e-01    -2.364792e-01   \n",
       "75%       8.621740e-01  7.761661e-01      9.780922e-01     5.514755e-01   \n",
       "max       1.732618e+00  2.038485e+00      4.079964e+00     5.083050e+00   \n",
       "\n",
       "          Item_Type      Item_MRP  Outlet_Identifier  \\\n",
       "count  8.523000e+03  8.523000e+03       8.523000e+03   \n",
       "mean   1.025422e-16 -1.644427e-16      -2.622435e-16   \n",
       "std    1.000059e+00  1.000059e+00       1.000059e+00   \n",
       "min   -1.716656e+00 -1.761688e+00      -1.664513e+00   \n",
       "25%   -7.664793e-01 -7.574307e-01      -9.595514e-01   \n",
       "50%   -2.913909e-01  3.243893e-02       9.789062e-02   \n",
       "75%    6.587859e-01  7.170372e-01       8.028520e-01   \n",
       "max    1.846507e+00  2.021724e+00       1.507813e+00   \n",
       "\n",
       "       Outlet_Establishment_Year   Outlet_Size  Outlet_Location_Type  \\\n",
       "count               8.523000e+03  8.523000e+03          8.523000e+03   \n",
       "mean                1.135381e-14  1.138360e-16         -6.574323e-16   \n",
       "std                 1.000059e+00  1.000059e+00          1.000059e+00   \n",
       "min                -1.532846e+00 -1.962963e+00         -1.369334e+00   \n",
       "25%                -1.293934e+00 -6.704464e-01         -1.369334e+00   \n",
       "50%                 1.395408e-01  6.220699e-01         -1.388824e-01   \n",
       "75%                 7.368218e-01  6.220699e-01          1.091569e+00   \n",
       "max                 1.334103e+00  1.914586e+00          1.091569e+00   \n",
       "\n",
       "        Outlet_Type  new_feature  \n",
       "count  8.523000e+03       8523.0  \n",
       "mean  -4.064826e-16          0.0  \n",
       "std    1.000059e+00          0.0  \n",
       "min   -1.508289e+00          0.0  \n",
       "25%   -2.526583e-01          0.0  \n",
       "50%   -2.526583e-01          0.0  \n",
       "75%   -2.526583e-01          0.0  \n",
       "max    2.258603e+00          0.0  "
      ]
     },
     "execution_count": 150,
     "metadata": {},
     "output_type": "execute_result"
    }
   ],
   "source": [
    "train_data.describe()"
   ]
  },
  {
   "cell_type": "code",
   "execution_count": 151,
   "metadata": {},
   "outputs": [
    {
     "data": {
      "text/plain": [
       "<matplotlib.axes._subplots.AxesSubplot at 0x247ff6dbba8>"
      ]
     },
     "execution_count": 151,
     "metadata": {},
     "output_type": "execute_result"
    },
    {
     "data": {
      "image/png": "[encoded data removed]",
      "text/plain": [
       "<Figure size 1152x576 with 2 Axes>"
      ]
     },
     "metadata": {
      "needs_background": "light"
     },
     "output_type": "display_data"
    }
   ],
   "source": [
    "#------Checking correlation---------\n",
    "corrmatrix = train_data.corr()\n",
    "plt.subplots(figsize=(16,8))\n",
    "sns.heatmap(corrmatrix,vmin=-0.4 , vmax=0.9, annot=True, cmap='YlGnBu' , linewidth=0.2)"
   ]
  },
  {
   "cell_type": "code",
   "execution_count": 152,
   "metadata": {},
   "outputs": [
    {
     "data": {
      "text/plain": [
       "LinearRegression()"
      ]
     },
     "execution_count": 152,
     "metadata": {},
     "output_type": "execute_result"
    }
   ],
   "source": [
    "#-------fit to linear regression-----------------\n",
    "from sklearn.linear_model import LinearRegression\n",
    "regression=LinearRegression()\n",
    "regression.fit(train_data,y)"
   ]
  },
  {
   "cell_type": "code",
   "execution_count": 153,
   "metadata": {},
   "outputs": [],
   "source": [
    "#Reading test data\n",
    "test_data=pd.read_csv(r\"E:\\ml_ai_ict\\competition\\test_AbJTz2l.csv\")"
   ]
  },
  {
   "cell_type": "code",
   "execution_count": 154,
   "metadata": {},
   "outputs": [
    {
     "data": {
      "text/plain": [
       "Item_Identifier                 0\n",
       "Item_Weight                   976\n",
       "Item_Fat_Content                0\n",
       "Item_Visibility                 0\n",
       "Item_Type                       0\n",
       "Item_MRP                        0\n",
       "Outlet_Identifier               0\n",
       "Outlet_Establishment_Year       0\n",
       "Outlet_Size                  1606\n",
       "Outlet_Location_Type            0\n",
       "Outlet_Type                     0\n",
       "dtype: int64"
      ]
     },
     "execution_count": 154,
     "metadata": {},
     "output_type": "execute_result"
    }
   ],
   "source": [
    "test_data.isna().sum()"
   ]
  },
  {
   "cell_type": "code",
   "execution_count": 155,
   "metadata": {},
   "outputs": [
    {
     "data": {
      "text/plain": [
       "array(['Dairy', 'Baking Goods', 'Health and Hygiene', 'Household',\n",
       "       'Others', 'Fruits and Vegetables', 'Meat', 'Canned', 'Snack Foods',\n",
       "       'Starchy Foods', 'Hard Drinks', 'Frozen Foods', 'Soft Drinks',\n",
       "       'Breads', 'Breakfast', 'Seafood'], dtype=object)"
      ]
     },
     "execution_count": 155,
     "metadata": {},
     "output_type": "execute_result"
    }
   ],
   "source": [
    "test_data[test_data[\"Item_Weight\"].isnull()][\"Item_Type\"].unique()"
   ]
  },
  {
   "cell_type": "code",
   "execution_count": 156,
   "metadata": {},
   "outputs": [],
   "source": [
    "test_data[\"Item_Weight\"]=test_data[\"Item_Weight\"].fillna(12.0)"
   ]
  },
  {
   "cell_type": "code",
   "execution_count": 157,
   "metadata": {},
   "outputs": [
    {
     "data": {
      "text/plain": [
       "array(['Supermarket Type1', 'Grocery Store'], dtype=object)"
      ]
     },
     "execution_count": 157,
     "metadata": {},
     "output_type": "execute_result"
    }
   ],
   "source": [
    "test_data[test_data[\"Outlet_Size\"].isnull()][\"Outlet_Type\"].unique()"
   ]
  },
  {
   "cell_type": "code",
   "execution_count": 158,
   "metadata": {},
   "outputs": [],
   "source": [
    "trial3=test_data[test_data[\"Outlet_Size\"].isnull()]"
   ]
  },
  {
   "cell_type": "code",
   "execution_count": 159,
   "metadata": {},
   "outputs": [],
   "source": [
    "groupp=trial3.groupby([\"Outlet_Type\",\"Outlet_Location_Type\"])"
   ]
  },
  {
   "cell_type": "code",
   "execution_count": 160,
   "metadata": {},
   "outputs": [
    {
     "name": "stdout",
     "output_type": "stream",
     "text": [
      "('Grocery Store', 'Tier 3')\n",
      "370\n",
      "('Supermarket Type1', 'Tier 2')\n",
      "1236\n"
     ]
    }
   ],
   "source": [
    "for name,each in groupp:\n",
    "    print(name)\n",
    "    print(len(each))\n",
    "    "
   ]
  },
  {
   "cell_type": "code",
   "execution_count": 161,
   "metadata": {},
   "outputs": [
    {
     "data": {
      "text/plain": [
       "array(['Medium', nan, 'Small', 'High'], dtype=object)"
      ]
     },
     "execution_count": 161,
     "metadata": {},
     "output_type": "execute_result"
    }
   ],
   "source": [
    "test_data[\"Outlet_Size\"].unique()"
   ]
  },
  {
   "cell_type": "code",
   "execution_count": 162,
   "metadata": {},
   "outputs": [],
   "source": [
    "indexes2=test_data[(test_data[\"Outlet_Location_Type\"]=='Tier 3') & (test_data[\"Outlet_Type\"]=='Grocery Store')][\"Outlet_Size\"].index"
   ]
  },
  {
   "cell_type": "code",
   "execution_count": 163,
   "metadata": {},
   "outputs": [],
   "source": [
    "test_data.loc[indexes2,\"Outlet_Size\"]=\"very small\""
   ]
  },
  {
   "cell_type": "code",
   "execution_count": 164,
   "metadata": {},
   "outputs": [],
   "source": [
    "test_data[\"Outlet_Size\"]= test_data[\"Outlet_Size\"].fillna(\"Small\")"
   ]
  },
  {
   "cell_type": "code",
   "execution_count": 165,
   "metadata": {},
   "outputs": [
    {
     "data": {
      "text/plain": [
       "Index(['Item_Identifier', 'Item_Weight', 'Item_Fat_Content', 'Item_Visibility',\n",
       "       'Item_Type', 'Item_MRP', 'Outlet_Identifier',\n",
       "       'Outlet_Establishment_Year', 'Outlet_Size', 'Outlet_Location_Type',\n",
       "       'Outlet_Type'],\n",
       "      dtype='object')"
      ]
     },
     "execution_count": 165,
     "metadata": {},
     "output_type": "execute_result"
    }
   ],
   "source": [
    "test_data.columns"
   ]
  },
  {
   "cell_type": "code",
   "execution_count": 166,
   "metadata": {},
   "outputs": [],
   "source": [
    "tindex10=test_data.loc[test_data[\"Outlet_Identifier\"]==\"010\"].index\n",
    "tindex19=test_data.loc[test_data[\"Outlet_Identifier\"]==\"019\"].index\n",
    "test_data.loc[:,\"new_feature\"]=1\n",
    "test_data.loc[tindex10,\"new_feature\"]=0\n",
    "test_data.loc[tindex19,\"new_feature\"]=0"
   ]
  },
  {
   "cell_type": "code",
   "execution_count": 167,
   "metadata": {},
   "outputs": [],
   "source": [
    "test_data=test_data"
   ]
  },
  {
   "cell_type": "code",
   "execution_count": 168,
   "metadata": {},
   "outputs": [],
   "source": [
    "cols = test_data.select_dtypes(include=[\"object\"]).columns.tolist()\n",
    "for col in cols:\n",
    "    test_data[col]=label.fit_transform(test_data[col])"
   ]
  },
  {
   "cell_type": "code",
   "execution_count": 169,
   "metadata": {},
   "outputs": [],
   "source": [
    "from sklearn.preprocessing import StandardScaler\n",
    "scale=StandardScaler()\n",
    "column_names=test_data.columns\n",
    "test_data=pd.DataFrame(scale.fit_transform(test_data),columns=column_names)"
   ]
  },
  {
   "cell_type": "code",
   "execution_count": 170,
   "metadata": {},
   "outputs": [],
   "source": [
    "#output of linear regression\n",
    "y_predict=regression.predict(test_data)"
   ]
  },
  {
   "cell_type": "code",
   "execution_count": 171,
   "metadata": {},
   "outputs": [],
   "source": [
    "submission=pd.read_csv(r\"E:\\ml_ai_ict\\competition\\sample_submission_8RXa3c6.csv\")"
   ]
  },
  {
   "cell_type": "code",
   "execution_count": 172,
   "metadata": {},
   "outputs": [
    {
     "data": {
      "text/plain": [
       "Index(['Item_Identifier', 'Outlet_Identifier', 'Item_Outlet_Sales'], dtype='object')"
      ]
     },
     "execution_count": 172,
     "metadata": {},
     "output_type": "execute_result"
    }
   ],
   "source": [
    "submission.columns"
   ]
  },
  {
   "cell_type": "code",
   "execution_count": 173,
   "metadata": {},
   "outputs": [],
   "source": [
    "submission[\"Item_Outlet_Sales\"]=abs(y_predict)"
   ]
  },
  {
   "cell_type": "code",
   "execution_count": 174,
   "metadata": {},
   "outputs": [
    {
     "data": {
      "text/html": [
       "<div>\n",
       "<style scoped>\n",
       "    .dataframe tbody tr th:only-of-type {\n",
       "        vertical-align: middle;\n",
       "    }\n",
       "\n",
       "    .dataframe tbody tr th {\n",
       "        vertical-align: top;\n",
       "    }\n",
       "\n",
       "    .dataframe thead th {\n",
       "        text-align: right;\n",
       "    }\n",
       "</style>\n",
       "<table border=\"1\" class=\"dataframe\">\n",
       "  <thead>\n",
       "    <tr style=\"text-align: right;\">\n",
       "      <th></th>\n",
       "      <th>Item_Identifier</th>\n",
       "      <th>Outlet_Identifier</th>\n",
       "      <th>Item_Outlet_Sales</th>\n",
       "    </tr>\n",
       "  </thead>\n",
       "  <tbody>\n",
       "    <tr>\n",
       "      <th>0</th>\n",
       "      <td>FDW58</td>\n",
       "      <td>OUT049</td>\n",
       "      <td>2003.539840</td>\n",
       "    </tr>\n",
       "    <tr>\n",
       "      <th>1</th>\n",
       "      <td>FDW14</td>\n",
       "      <td>OUT017</td>\n",
       "      <td>1082.091728</td>\n",
       "    </tr>\n",
       "    <tr>\n",
       "      <th>2</th>\n",
       "      <td>NCN55</td>\n",
       "      <td>OUT010</td>\n",
       "      <td>2149.025714</td>\n",
       "    </tr>\n",
       "    <tr>\n",
       "      <th>3</th>\n",
       "      <td>FDQ58</td>\n",
       "      <td>OUT017</td>\n",
       "      <td>2072.125743</td>\n",
       "    </tr>\n",
       "    <tr>\n",
       "      <th>4</th>\n",
       "      <td>FDY38</td>\n",
       "      <td>OUT027</td>\n",
       "      <td>5013.484374</td>\n",
       "    </tr>\n",
       "  </tbody>\n",
       "</table>\n",
       "</div>"
      ],
      "text/plain": [
       "  Item_Identifier Outlet_Identifier  Item_Outlet_Sales\n",
       "0           FDW58            OUT049        2003.539840\n",
       "1           FDW14            OUT017        1082.091728\n",
       "2           NCN55            OUT010        2149.025714\n",
       "3           FDQ58            OUT017        2072.125743\n",
       "4           FDY38            OUT027        5013.484374"
      ]
     },
     "execution_count": 174,
     "metadata": {},
     "output_type": "execute_result"
    }
   ],
   "source": [
    "submission.head()"
   ]
  },
  {
   "cell_type": "code",
   "execution_count": 175,
   "metadata": {},
   "outputs": [
    {
     "data": {
      "text/html": [
       "<div>\n",
       "<style scoped>\n",
       "    .dataframe tbody tr th:only-of-type {\n",
       "        vertical-align: middle;\n",
       "    }\n",
       "\n",
       "    .dataframe tbody tr th {\n",
       "        vertical-align: top;\n",
       "    }\n",
       "\n",
       "    .dataframe thead th {\n",
       "        text-align: right;\n",
       "    }\n",
       "</style>\n",
       "<table border=\"1\" class=\"dataframe\">\n",
       "  <thead>\n",
       "    <tr style=\"text-align: right;\">\n",
       "      <th></th>\n",
       "      <th>Outlet_Identifier</th>\n",
       "      <th>Item_Outlet_Sales</th>\n",
       "    </tr>\n",
       "    <tr>\n",
       "      <th>Item_Identifier</th>\n",
       "      <th></th>\n",
       "      <th></th>\n",
       "    </tr>\n",
       "  </thead>\n",
       "  <tbody>\n",
       "    <tr>\n",
       "      <th>FDW58</th>\n",
       "      <td>OUT049</td>\n",
       "      <td>2003.539840</td>\n",
       "    </tr>\n",
       "    <tr>\n",
       "      <th>FDW14</th>\n",
       "      <td>OUT017</td>\n",
       "      <td>1082.091728</td>\n",
       "    </tr>\n",
       "    <tr>\n",
       "      <th>NCN55</th>\n",
       "      <td>OUT010</td>\n",
       "      <td>2149.025714</td>\n",
       "    </tr>\n",
       "    <tr>\n",
       "      <th>FDQ58</th>\n",
       "      <td>OUT017</td>\n",
       "      <td>2072.125743</td>\n",
       "    </tr>\n",
       "    <tr>\n",
       "      <th>FDY38</th>\n",
       "      <td>OUT027</td>\n",
       "      <td>5013.484374</td>\n",
       "    </tr>\n",
       "    <tr>\n",
       "      <th>...</th>\n",
       "      <td>...</td>\n",
       "      <td>...</td>\n",
       "    </tr>\n",
       "    <tr>\n",
       "      <th>FDB58</th>\n",
       "      <td>OUT046</td>\n",
       "      <td>2322.715447</td>\n",
       "    </tr>\n",
       "    <tr>\n",
       "      <th>FDD47</th>\n",
       "      <td>OUT018</td>\n",
       "      <td>3076.716345</td>\n",
       "    </tr>\n",
       "    <tr>\n",
       "      <th>NCO17</th>\n",
       "      <td>OUT045</td>\n",
       "      <td>1711.051936</td>\n",
       "    </tr>\n",
       "    <tr>\n",
       "      <th>FDJ26</th>\n",
       "      <td>OUT017</td>\n",
       "      <td>3083.817408</td>\n",
       "    </tr>\n",
       "    <tr>\n",
       "      <th>FDU37</th>\n",
       "      <td>OUT045</td>\n",
       "      <td>1096.144550</td>\n",
       "    </tr>\n",
       "  </tbody>\n",
       "</table>\n",
       "<p>5681 rows × 2 columns</p>\n",
       "</div>"
      ],
      "text/plain": [
       "                Outlet_Identifier  Item_Outlet_Sales\n",
       "Item_Identifier                                     \n",
       "FDW58                      OUT049        2003.539840\n",
       "FDW14                      OUT017        1082.091728\n",
       "NCN55                      OUT010        2149.025714\n",
       "FDQ58                      OUT017        2072.125743\n",
       "FDY38                      OUT027        5013.484374\n",
       "...                           ...                ...\n",
       "FDB58                      OUT046        2322.715447\n",
       "FDD47                      OUT018        3076.716345\n",
       "NCO17                      OUT045        1711.051936\n",
       "FDJ26                      OUT017        3083.817408\n",
       "FDU37                      OUT045        1096.144550\n",
       "\n",
       "[5681 rows x 2 columns]"
      ]
     },
     "execution_count": 175,
     "metadata": {},
     "output_type": "execute_result"
    }
   ],
   "source": [
    "submission.set_index(\"Item_Identifier\")"
   ]
  },
  {
   "cell_type": "code",
   "execution_count": 180,
   "metadata": {},
   "outputs": [],
   "source": [
    "submission.to_csv(r\"E:\\ml_ai_ict\\competition\\output.csv\")"
   ]
  },
  {
   "cell_type": "code",
   "execution_count": 181,
   "metadata": {},
   "outputs": [],
   "source": [
    "#random forest regressor\n",
    "from sklearn.ensemble import RandomForestRegressor\n",
    "rand=RandomForestRegressor()\n",
    "rand.fit(train_data,y)\n",
    "y_rand=rand.predict(test_data)"
   ]
  },
  {
   "cell_type": "code",
   "execution_count": 182,
   "metadata": {},
   "outputs": [],
   "source": [
    "submission[\"Item_Outlet_Sales\"]=abs(y_rand)"
   ]
  },
  {
   "cell_type": "code",
   "execution_count": 183,
   "metadata": {},
   "outputs": [],
   "source": [
    "submission.to_csv(r\"E:\\ml_ai_ict\\competition\\output_rand.csv\")"
   ]
  },
  {
   "cell_type": "code",
   "execution_count": null,
   "metadata": {},
   "outputs": [],
   "source": []
  }
 ],
 "metadata": {
  "kernelspec": {
   "display_name": "Python 3",
   "language": "python",
   "name": "python3"
  },
  "language_info": {
   "codemirror_mode": {
    "name": "ipython",
    "version": 3
   },
   "file_extension": ".py",
   "mimetype": "text/x-python",
   "name": "python",
   "nbconvert_exporter": "python",
   "pygments_lexer": "ipython3",
   "version": "3.7.3"
  }
 },
 "nbformat": 4,
 "nbformat_minor": 2
}
